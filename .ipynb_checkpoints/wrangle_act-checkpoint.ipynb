{
 "cells": [
  {
   "cell_type": "markdown",
   "metadata": {},
   "source": [
    "## 1. Gathering the data"
   ]
  },
  {
   "cell_type": "markdown",
   "metadata": {},
   "source": [
    "### 1.1. Get twitter archive from csv"
   ]
  },
  {
   "cell_type": "code",
   "execution_count": 17,
   "metadata": {
    "collapsed": true
   },
   "outputs": [],
   "source": [
    "import pandas as pd"
   ]
  },
  {
   "cell_type": "code",
   "execution_count": 18,
   "metadata": {},
   "outputs": [],
   "source": [
    "twitter_archive = pd.read_csv('data/twitter-archive-enhanced.csv')"
   ]
  },
  {
   "cell_type": "code",
   "execution_count": 243,
   "metadata": {},
   "outputs": [
    {
     "data": {
      "text/html": [
       "<div>\n",
       "<style>\n",
       "    .dataframe thead tr:only-child th {\n",
       "        text-align: right;\n",
       "    }\n",
       "\n",
       "    .dataframe thead th {\n",
       "        text-align: left;\n",
       "    }\n",
       "\n",
       "    .dataframe tbody tr th {\n",
       "        vertical-align: top;\n",
       "    }\n",
       "</style>\n",
       "<table border=\"1\" class=\"dataframe\">\n",
       "  <thead>\n",
       "    <tr style=\"text-align: right;\">\n",
       "      <th></th>\n",
       "      <th>tweet_id</th>\n",
       "      <th>in_reply_to_status_id</th>\n",
       "      <th>in_reply_to_user_id</th>\n",
       "      <th>timestamp</th>\n",
       "      <th>source</th>\n",
       "      <th>text</th>\n",
       "      <th>retweeted_status_id</th>\n",
       "      <th>retweeted_status_user_id</th>\n",
       "      <th>retweeted_status_timestamp</th>\n",
       "      <th>expanded_urls</th>\n",
       "      <th>rating_numerator</th>\n",
       "      <th>rating_denominator</th>\n",
       "      <th>name</th>\n",
       "      <th>doggo</th>\n",
       "      <th>floofer</th>\n",
       "      <th>pupper</th>\n",
       "      <th>puppo</th>\n",
       "    </tr>\n",
       "  </thead>\n",
       "  <tbody>\n",
       "    <tr>\n",
       "      <th>0</th>\n",
       "      <td>892420643555336193</td>\n",
       "      <td>NaN</td>\n",
       "      <td>NaN</td>\n",
       "      <td>2017-08-01 16:23:56 +0000</td>\n",
       "      <td>&lt;a href=\"http://twitter.com/download/iphone\" r...</td>\n",
       "      <td>This is Phineas. He's a mystical boy. Only eve...</td>\n",
       "      <td>NaN</td>\n",
       "      <td>NaN</td>\n",
       "      <td>NaN</td>\n",
       "      <td>https://twitter.com/dog_rates/status/892420643...</td>\n",
       "      <td>13</td>\n",
       "      <td>10</td>\n",
       "      <td>Phineas</td>\n",
       "      <td>None</td>\n",
       "      <td>None</td>\n",
       "      <td>None</td>\n",
       "      <td>None</td>\n",
       "    </tr>\n",
       "    <tr>\n",
       "      <th>1</th>\n",
       "      <td>892177421306343426</td>\n",
       "      <td>NaN</td>\n",
       "      <td>NaN</td>\n",
       "      <td>2017-08-01 00:17:27 +0000</td>\n",
       "      <td>&lt;a href=\"http://twitter.com/download/iphone\" r...</td>\n",
       "      <td>This is Tilly. She's just checking pup on you....</td>\n",
       "      <td>NaN</td>\n",
       "      <td>NaN</td>\n",
       "      <td>NaN</td>\n",
       "      <td>https://twitter.com/dog_rates/status/892177421...</td>\n",
       "      <td>13</td>\n",
       "      <td>10</td>\n",
       "      <td>Tilly</td>\n",
       "      <td>None</td>\n",
       "      <td>None</td>\n",
       "      <td>None</td>\n",
       "      <td>None</td>\n",
       "    </tr>\n",
       "    <tr>\n",
       "      <th>2</th>\n",
       "      <td>891815181378084864</td>\n",
       "      <td>NaN</td>\n",
       "      <td>NaN</td>\n",
       "      <td>2017-07-31 00:18:03 +0000</td>\n",
       "      <td>&lt;a href=\"http://twitter.com/download/iphone\" r...</td>\n",
       "      <td>This is Archie. He is a rare Norwegian Pouncin...</td>\n",
       "      <td>NaN</td>\n",
       "      <td>NaN</td>\n",
       "      <td>NaN</td>\n",
       "      <td>https://twitter.com/dog_rates/status/891815181...</td>\n",
       "      <td>12</td>\n",
       "      <td>10</td>\n",
       "      <td>Archie</td>\n",
       "      <td>None</td>\n",
       "      <td>None</td>\n",
       "      <td>None</td>\n",
       "      <td>None</td>\n",
       "    </tr>\n",
       "    <tr>\n",
       "      <th>3</th>\n",
       "      <td>891689557279858688</td>\n",
       "      <td>NaN</td>\n",
       "      <td>NaN</td>\n",
       "      <td>2017-07-30 15:58:51 +0000</td>\n",
       "      <td>&lt;a href=\"http://twitter.com/download/iphone\" r...</td>\n",
       "      <td>This is Darla. She commenced a snooze mid meal...</td>\n",
       "      <td>NaN</td>\n",
       "      <td>NaN</td>\n",
       "      <td>NaN</td>\n",
       "      <td>https://twitter.com/dog_rates/status/891689557...</td>\n",
       "      <td>13</td>\n",
       "      <td>10</td>\n",
       "      <td>Darla</td>\n",
       "      <td>None</td>\n",
       "      <td>None</td>\n",
       "      <td>None</td>\n",
       "      <td>None</td>\n",
       "    </tr>\n",
       "    <tr>\n",
       "      <th>4</th>\n",
       "      <td>891327558926688256</td>\n",
       "      <td>NaN</td>\n",
       "      <td>NaN</td>\n",
       "      <td>2017-07-29 16:00:24 +0000</td>\n",
       "      <td>&lt;a href=\"http://twitter.com/download/iphone\" r...</td>\n",
       "      <td>This is Franklin. He would like you to stop ca...</td>\n",
       "      <td>NaN</td>\n",
       "      <td>NaN</td>\n",
       "      <td>NaN</td>\n",
       "      <td>https://twitter.com/dog_rates/status/891327558...</td>\n",
       "      <td>12</td>\n",
       "      <td>10</td>\n",
       "      <td>Franklin</td>\n",
       "      <td>None</td>\n",
       "      <td>None</td>\n",
       "      <td>None</td>\n",
       "      <td>None</td>\n",
       "    </tr>\n",
       "  </tbody>\n",
       "</table>\n",
       "</div>"
      ],
      "text/plain": [
       "             tweet_id  in_reply_to_status_id  in_reply_to_user_id  \\\n",
       "0  892420643555336193                    NaN                  NaN   \n",
       "1  892177421306343426                    NaN                  NaN   \n",
       "2  891815181378084864                    NaN                  NaN   \n",
       "3  891689557279858688                    NaN                  NaN   \n",
       "4  891327558926688256                    NaN                  NaN   \n",
       "\n",
       "                   timestamp  \\\n",
       "0  2017-08-01 16:23:56 +0000   \n",
       "1  2017-08-01 00:17:27 +0000   \n",
       "2  2017-07-31 00:18:03 +0000   \n",
       "3  2017-07-30 15:58:51 +0000   \n",
       "4  2017-07-29 16:00:24 +0000   \n",
       "\n",
       "                                              source  \\\n",
       "0  <a href=\"http://twitter.com/download/iphone\" r...   \n",
       "1  <a href=\"http://twitter.com/download/iphone\" r...   \n",
       "2  <a href=\"http://twitter.com/download/iphone\" r...   \n",
       "3  <a href=\"http://twitter.com/download/iphone\" r...   \n",
       "4  <a href=\"http://twitter.com/download/iphone\" r...   \n",
       "\n",
       "                                                text  retweeted_status_id  \\\n",
       "0  This is Phineas. He's a mystical boy. Only eve...                  NaN   \n",
       "1  This is Tilly. She's just checking pup on you....                  NaN   \n",
       "2  This is Archie. He is a rare Norwegian Pouncin...                  NaN   \n",
       "3  This is Darla. She commenced a snooze mid meal...                  NaN   \n",
       "4  This is Franklin. He would like you to stop ca...                  NaN   \n",
       "\n",
       "   retweeted_status_user_id retweeted_status_timestamp  \\\n",
       "0                       NaN                        NaN   \n",
       "1                       NaN                        NaN   \n",
       "2                       NaN                        NaN   \n",
       "3                       NaN                        NaN   \n",
       "4                       NaN                        NaN   \n",
       "\n",
       "                                       expanded_urls  rating_numerator  \\\n",
       "0  https://twitter.com/dog_rates/status/892420643...                13   \n",
       "1  https://twitter.com/dog_rates/status/892177421...                13   \n",
       "2  https://twitter.com/dog_rates/status/891815181...                12   \n",
       "3  https://twitter.com/dog_rates/status/891689557...                13   \n",
       "4  https://twitter.com/dog_rates/status/891327558...                12   \n",
       "\n",
       "   rating_denominator      name doggo floofer pupper puppo  \n",
       "0                  10   Phineas  None    None   None  None  \n",
       "1                  10     Tilly  None    None   None  None  \n",
       "2                  10    Archie  None    None   None  None  \n",
       "3                  10     Darla  None    None   None  None  \n",
       "4                  10  Franklin  None    None   None  None  "
      ]
     },
     "execution_count": 243,
     "metadata": {},
     "output_type": "execute_result"
    }
   ],
   "source": [
    "twitter_archive.head()"
   ]
  },
  {
   "cell_type": "markdown",
   "metadata": {},
   "source": [
    "### 1.2. Get image predictions from url\n",
    "\n",
    "**Instructuion:** The tweet image predictions, i.e., what breed of dog (or other object, animal, etc.) is present in each tweet according to a neural network. This file (image_predictions.tsv) hosted on Udacity's servers and should be downloaded programmatically using the Requests library and the following URL: https://d17h27t6h515a5.cloudfront.net/topher/2017/August/599fd2ad_image-predictions/image-predictions.tsv"
   ]
  },
  {
   "cell_type": "code",
   "execution_count": 242,
   "metadata": {
    "collapsed": true
   },
   "outputs": [],
   "source": [
    "import requests"
   ]
  },
  {
   "cell_type": "code",
   "execution_count": 20,
   "metadata": {},
   "outputs": [],
   "source": [
    "url = 'https://d17h27t6h515a5.cloudfront.net/topher/2017/August/599fd2ad_image-predictions/image-predictions.tsv'\n",
    "response = requests.get(url)\n",
    "\n",
    "with open('data/image-predictions.tsv', 'wb') as f:\n",
    "    f.write(response.content)\n",
    "    \n",
    "image_predictions = pd.read_csv('data/image-predictions.tsv',sep='\\t')"
   ]
  },
  {
   "cell_type": "code",
   "execution_count": 241,
   "metadata": {},
   "outputs": [
    {
     "data": {
      "text/html": [
       "<div>\n",
       "<style>\n",
       "    .dataframe thead tr:only-child th {\n",
       "        text-align: right;\n",
       "    }\n",
       "\n",
       "    .dataframe thead th {\n",
       "        text-align: left;\n",
       "    }\n",
       "\n",
       "    .dataframe tbody tr th {\n",
       "        vertical-align: top;\n",
       "    }\n",
       "</style>\n",
       "<table border=\"1\" class=\"dataframe\">\n",
       "  <thead>\n",
       "    <tr style=\"text-align: right;\">\n",
       "      <th></th>\n",
       "      <th>tweet_id</th>\n",
       "      <th>jpg_url</th>\n",
       "      <th>img_num</th>\n",
       "      <th>p1</th>\n",
       "      <th>p1_conf</th>\n",
       "      <th>p1_dog</th>\n",
       "      <th>p2</th>\n",
       "      <th>p2_conf</th>\n",
       "      <th>p2_dog</th>\n",
       "      <th>p3</th>\n",
       "      <th>p3_conf</th>\n",
       "      <th>p3_dog</th>\n",
       "    </tr>\n",
       "  </thead>\n",
       "  <tbody>\n",
       "    <tr>\n",
       "      <th>0</th>\n",
       "      <td>666020888022790149</td>\n",
       "      <td>https://pbs.twimg.com/media/CT4udn0WwAA0aMy.jpg</td>\n",
       "      <td>1</td>\n",
       "      <td>Welsh_springer_spaniel</td>\n",
       "      <td>0.465074</td>\n",
       "      <td>True</td>\n",
       "      <td>collie</td>\n",
       "      <td>0.156665</td>\n",
       "      <td>True</td>\n",
       "      <td>Shetland_sheepdog</td>\n",
       "      <td>0.061428</td>\n",
       "      <td>True</td>\n",
       "    </tr>\n",
       "    <tr>\n",
       "      <th>1</th>\n",
       "      <td>666029285002620928</td>\n",
       "      <td>https://pbs.twimg.com/media/CT42GRgUYAA5iDo.jpg</td>\n",
       "      <td>1</td>\n",
       "      <td>redbone</td>\n",
       "      <td>0.506826</td>\n",
       "      <td>True</td>\n",
       "      <td>miniature_pinscher</td>\n",
       "      <td>0.074192</td>\n",
       "      <td>True</td>\n",
       "      <td>Rhodesian_ridgeback</td>\n",
       "      <td>0.072010</td>\n",
       "      <td>True</td>\n",
       "    </tr>\n",
       "    <tr>\n",
       "      <th>2</th>\n",
       "      <td>666033412701032449</td>\n",
       "      <td>https://pbs.twimg.com/media/CT4521TWwAEvMyu.jpg</td>\n",
       "      <td>1</td>\n",
       "      <td>German_shepherd</td>\n",
       "      <td>0.596461</td>\n",
       "      <td>True</td>\n",
       "      <td>malinois</td>\n",
       "      <td>0.138584</td>\n",
       "      <td>True</td>\n",
       "      <td>bloodhound</td>\n",
       "      <td>0.116197</td>\n",
       "      <td>True</td>\n",
       "    </tr>\n",
       "    <tr>\n",
       "      <th>3</th>\n",
       "      <td>666044226329800704</td>\n",
       "      <td>https://pbs.twimg.com/media/CT5Dr8HUEAA-lEu.jpg</td>\n",
       "      <td>1</td>\n",
       "      <td>Rhodesian_ridgeback</td>\n",
       "      <td>0.408143</td>\n",
       "      <td>True</td>\n",
       "      <td>redbone</td>\n",
       "      <td>0.360687</td>\n",
       "      <td>True</td>\n",
       "      <td>miniature_pinscher</td>\n",
       "      <td>0.222752</td>\n",
       "      <td>True</td>\n",
       "    </tr>\n",
       "    <tr>\n",
       "      <th>4</th>\n",
       "      <td>666049248165822465</td>\n",
       "      <td>https://pbs.twimg.com/media/CT5IQmsXIAAKY4A.jpg</td>\n",
       "      <td>1</td>\n",
       "      <td>miniature_pinscher</td>\n",
       "      <td>0.560311</td>\n",
       "      <td>True</td>\n",
       "      <td>Rottweiler</td>\n",
       "      <td>0.243682</td>\n",
       "      <td>True</td>\n",
       "      <td>Doberman</td>\n",
       "      <td>0.154629</td>\n",
       "      <td>True</td>\n",
       "    </tr>\n",
       "  </tbody>\n",
       "</table>\n",
       "</div>"
      ],
      "text/plain": [
       "             tweet_id                                          jpg_url  \\\n",
       "0  666020888022790149  https://pbs.twimg.com/media/CT4udn0WwAA0aMy.jpg   \n",
       "1  666029285002620928  https://pbs.twimg.com/media/CT42GRgUYAA5iDo.jpg   \n",
       "2  666033412701032449  https://pbs.twimg.com/media/CT4521TWwAEvMyu.jpg   \n",
       "3  666044226329800704  https://pbs.twimg.com/media/CT5Dr8HUEAA-lEu.jpg   \n",
       "4  666049248165822465  https://pbs.twimg.com/media/CT5IQmsXIAAKY4A.jpg   \n",
       "\n",
       "   img_num                      p1   p1_conf  p1_dog                  p2  \\\n",
       "0        1  Welsh_springer_spaniel  0.465074    True              collie   \n",
       "1        1                 redbone  0.506826    True  miniature_pinscher   \n",
       "2        1         German_shepherd  0.596461    True            malinois   \n",
       "3        1     Rhodesian_ridgeback  0.408143    True             redbone   \n",
       "4        1      miniature_pinscher  0.560311    True          Rottweiler   \n",
       "\n",
       "    p2_conf  p2_dog                   p3   p3_conf  p3_dog  \n",
       "0  0.156665    True    Shetland_sheepdog  0.061428    True  \n",
       "1  0.074192    True  Rhodesian_ridgeback  0.072010    True  \n",
       "2  0.138584    True           bloodhound  0.116197    True  \n",
       "3  0.360687    True   miniature_pinscher  0.222752    True  \n",
       "4  0.243682    True             Doberman  0.154629    True  "
      ]
     },
     "execution_count": 241,
     "metadata": {},
     "output_type": "execute_result"
    }
   ],
   "source": [
    "image_predictions.head()"
   ]
  },
  {
   "cell_type": "markdown",
   "metadata": {},
   "source": [
    "### 1.3. Get extra information using Tweepy\n",
    "\n",
    "To avoid sharing the keys, I stored them in a config.yaml file (which is ignored by git via .gitignore)\n",
    "\n",
    "**Instruction:** Gather each tweet's retweet count and favorite (i.e. \"like\") count at minimum, and any additional data you find interesting. Using the tweet IDs in the WeRateDogs Twitter archive, query the Twitter API for each tweet's JSON data using Python's Tweepy library and store each tweet's entire set of JSON data in a file called tweet_json.txt file. Each tweet's JSON data should be written to its own line. Then read this .txt file line by line into a pandas DataFrame with (at minimum) tweet ID, retweet count, and favorite count. \n",
    "\n",
    "\n",
    "**Comment:** I think it is a bit weird that we have to store **the entire set of JSON data** for each tweet since we do not use it later. I would rather only store the elements we use (tweet ID, retweet count, and favorite count). If we really want the whole json per tweet (I am not sure why though), I would store each tweet information in a separate file in a json format (since json output per tweet varies quite a bit).\n",
    "\n",
    "Anyway, I was following the instructions (as I understood them) and find the solution quite dirty: I used all possible json top-level keys as columns and the corresponding values as strings (which were sometimes dictionaries, which I forced into a string format)"
   ]
  },
  {
   "cell_type": "code",
   "execution_count": 22,
   "metadata": {},
   "outputs": [],
   "source": [
    "import tweepy\n",
    "import ruamel.yaml as yaml\n",
    "import os"
   ]
  },
  {
   "cell_type": "code",
   "execution_count": 138,
   "metadata": {},
   "outputs": [],
   "source": [
    "config = yaml.load(open('keys/config.yaml','rb'), Loader=yaml.Loader)['tweepy']\n",
    "\n",
    "consumer_key    = config['consumer_key'] \n",
    "consumer_secret = config['consumer_secret'] \n",
    "access_key      = config['access_key'] \n",
    "access_secret   = config['access_secret'] \n",
    "auth = tweepy.OAuthHandler(consumer_key, consumer_secret)\n",
    "auth.set_access_token(access_key, access_secret)\n",
    "api = tweepy.API(auth, wait_on_rate_limit=True, wait_on_rate_limit_notify=True)"
   ]
  },
  {
   "cell_type": "code",
   "execution_count": 167,
   "metadata": {},
   "outputs": [
    {
     "name": "stdout",
     "output_type": "stream",
     "text": [
      "4.2% of tweets processed\n",
      "8.5% of tweets processed\n",
      "12.7% of tweets processed\n",
      "17.0% of tweets processed\n",
      "21.2% of tweets processed\n",
      "25.5% of tweets processed\n",
      "29.7% of tweets processed\n",
      "34.0% of tweets processed\n",
      "Rate limit reached. Sleeping for: 125\n",
      "38.2% of tweets processed\n",
      "42.4% of tweets processed\n",
      "46.7% of tweets processed\n",
      "50.9% of tweets processed\n",
      "55.2% of tweets processed\n",
      "59.4% of tweets processed\n",
      "63.7% of tweets processed\n",
      "67.9% of tweets processed\n",
      "72.2% of tweets processed\n",
      "Rate limit reached. Sleeping for: 607\n",
      "76.4% of tweets processed\n",
      "80.6% of tweets processed\n",
      "84.9% of tweets processed\n",
      "89.1% of tweets processed\n",
      "93.4% of tweets processed\n",
      "97.6% of tweets processed\n"
     ]
    }
   ],
   "source": [
    "processed_tweets=0\n",
    "tweet_json=[]\n",
    "tweet_ids=twitter_archive.tweet_id.unique().tolist()\n",
    "\n",
    "for i in tweet_ids:\n",
    "    tweet = api.statuses_lookup([i])\n",
    "    tweet_json.append(tweet)\n",
    "    processed_tweets += 1\n",
    "    if (processed_tweets % 100 == 0):\n",
    "        print(\"%.1f%% of tweets processed\" % (100.0*len(processed_tweets)/len(tweet_ids)))"
   ]
  },
  {
   "cell_type": "markdown",
   "metadata": {},
   "source": [
    "### A bit vizualisation that helps to store the data correctly\n",
    "Let´s take a look at the structure of output (how many top-level json keys are there per tweet, which different json keys occur there. This will help to store the data into a well-readable txt"
   ]
  },
  {
   "cell_type": "code",
   "execution_count": 181,
   "metadata": {
    "collapsed": true
   },
   "outputs": [],
   "source": [
    "import seaborn as sns\n",
    "import matplotlib.pyplot as plt\n",
    "%matplotlib inline"
   ]
  },
  {
   "cell_type": "code",
   "execution_count": 204,
   "metadata": {
    "collapsed": true
   },
   "outputs": [],
   "source": [
    "num_keys=[]\n",
    "json_keys = []\n",
    "for i in range(len(tweet_json)):\n",
    "    if len(tweet_json[i])==0:\n",
    "        num_keys.append(0)\n",
    "    else:\n",
    "        keys = list(tweet_json[i][0]._json.keys())\n",
    "        num_keys.append(len(keys))\n",
    "        json_keys += keys\n",
    "        \n",
    "json_keys=list(set(json_keys)) ##important to have it ordered for later"
   ]
  },
  {
   "cell_type": "code",
   "execution_count": 408,
   "metadata": {},
   "outputs": [
    {
     "data": {
      "text/plain": [
       "<matplotlib.axes._subplots.AxesSubplot at 0x7efee0400198>"
      ]
     },
     "execution_count": 408,
     "metadata": {},
     "output_type": "execute_result"
    },
    {
     "data": {
      "image/png": "[encoded data removed]",
      "text/plain": [
       "<matplotlib.figure.Figure at 0x7efee02609b0>"
      ]
     },
     "metadata": {},
     "output_type": "display_data"
    }
   ],
   "source": [
    "plt.figure(figsize=(10,5))\n",
    "sns.countplot(num_keys)"
   ]
  },
  {
   "cell_type": "code",
   "execution_count": 197,
   "metadata": {},
   "outputs": [
    {
     "data": {
      "text/plain": [
       "6"
      ]
     },
     "execution_count": 197,
     "metadata": {},
     "output_type": "execute_result"
    }
   ],
   "source": [
    "sum([1  if x==0 else 0 for x in num_keys ])"
   ]
  },
  {
   "cell_type": "code",
   "execution_count": 205,
   "metadata": {},
   "outputs": [
    {
     "data": {
      "text/plain": [
       "29"
      ]
     },
     "execution_count": 205,
     "metadata": {},
     "output_type": "execute_result"
    }
   ],
   "source": [
    "len(json_keys)"
   ]
  },
  {
   "cell_type": "markdown",
   "metadata": {},
   "source": [
    "Looks like there are either 23,24,25,26 or 27 different json top-level keys with 29 different possible values. Important to take that into consideration before storing the data in txt format.\n",
    "\n",
    "Note: There were 6 tweet id´s which I was not able to find the information about using Twitter API."
   ]
  },
  {
   "cell_type": "code",
   "execution_count": 317,
   "metadata": {},
   "outputs": [],
   "source": [
    "processed_tweets = 0\n",
    "\n",
    "if os.path.exists(\"data/tweet_json.txt\"):\n",
    "    os.remove(\"data/tweet_json.txt\")\n",
    "\n",
    "file = open(\"data/tweet_json.txt\",\"a\")\n",
    "\n",
    "for tweet in tweet_json:\n",
    "    ## ignore tweet id's with no information\n",
    "    if len(tweet)==0:\n",
    "        pass\n",
    "    ## write data with \\t as a separator; avoid problems by removing \\t and \\n from the string\n",
    "    else:\n",
    "        if processed_tweets > 0:        \n",
    "            file.write(\"\\n\"+'\\t'.join([str(tweet[0]._json.get(i)).replace('\\t',' ').replace('\\n',' ')\n",
    "                                        for i in json_keys]))\n",
    "        else:\n",
    "            file.write('\\t'.join(list(json_keys))+\n",
    "            \"\\n\"+'\\t'.join([str(tweet[0]._json.get(i)).replace('\\t',' ').replace('\\n',' ') for i in json_keys]))\n",
    "    processed_tweets += 1\n",
    "file.close()"
   ]
  },
  {
   "cell_type": "code",
   "execution_count": 318,
   "metadata": {
    "collapsed": true
   },
   "outputs": [],
   "source": [
    "twitter_extra = pd.read_csv('data/tweet_json.txt',sep='\\t')"
   ]
  },
  {
   "cell_type": "code",
   "execution_count": 320,
   "metadata": {
    "scrolled": true
   },
   "outputs": [
    {
     "data": {
      "text/html": [
       "<div>\n",
       "<style>\n",
       "    .dataframe thead tr:only-child th {\n",
       "        text-align: right;\n",
       "    }\n",
       "\n",
       "    .dataframe thead th {\n",
       "        text-align: left;\n",
       "    }\n",
       "\n",
       "    .dataframe tbody tr th {\n",
       "        vertical-align: top;\n",
       "    }\n",
       "</style>\n",
       "<table border=\"1\" class=\"dataframe\">\n",
       "  <thead>\n",
       "    <tr style=\"text-align: right;\">\n",
       "      <th></th>\n",
       "      <th>favorited</th>\n",
       "      <th>id</th>\n",
       "      <th>quoted_status_id</th>\n",
       "      <th>coordinates</th>\n",
       "      <th>quoted_status</th>\n",
       "      <th>truncated</th>\n",
       "      <th>id_str</th>\n",
       "      <th>text</th>\n",
       "      <th>in_reply_to_status_id</th>\n",
       "      <th>retweeted_status</th>\n",
       "      <th>...</th>\n",
       "      <th>lang</th>\n",
       "      <th>contributors</th>\n",
       "      <th>possibly_sensitive</th>\n",
       "      <th>place</th>\n",
       "      <th>retweet_count</th>\n",
       "      <th>extended_entities</th>\n",
       "      <th>entities</th>\n",
       "      <th>source</th>\n",
       "      <th>geo</th>\n",
       "      <th>is_quote_status</th>\n",
       "    </tr>\n",
       "  </thead>\n",
       "  <tbody>\n",
       "    <tr>\n",
       "      <th>0</th>\n",
       "      <td>False</td>\n",
       "      <td>892420643555336193</td>\n",
       "      <td>None</td>\n",
       "      <td>None</td>\n",
       "      <td>None</td>\n",
       "      <td>False</td>\n",
       "      <td>892420643555336193</td>\n",
       "      <td>This is Phineas. He's a mystical boy. Only eve...</td>\n",
       "      <td>None</td>\n",
       "      <td>None</td>\n",
       "      <td>...</td>\n",
       "      <td>en</td>\n",
       "      <td>None</td>\n",
       "      <td>False</td>\n",
       "      <td>None</td>\n",
       "      <td>8795</td>\n",
       "      <td>{'media': [{'id_str': '892420639486877696', 'i...</td>\n",
       "      <td>{'user_mentions': [], 'urls': [], 'media': [{'...</td>\n",
       "      <td>&lt;a href=\"http://twitter.com/download/iphone\" r...</td>\n",
       "      <td>None</td>\n",
       "      <td>False</td>\n",
       "    </tr>\n",
       "    <tr>\n",
       "      <th>1</th>\n",
       "      <td>False</td>\n",
       "      <td>892177421306343426</td>\n",
       "      <td>None</td>\n",
       "      <td>None</td>\n",
       "      <td>None</td>\n",
       "      <td>True</td>\n",
       "      <td>892177421306343426</td>\n",
       "      <td>This is Tilly. She's just checking pup on you....</td>\n",
       "      <td>None</td>\n",
       "      <td>None</td>\n",
       "      <td>...</td>\n",
       "      <td>en</td>\n",
       "      <td>None</td>\n",
       "      <td>False</td>\n",
       "      <td>None</td>\n",
       "      <td>6449</td>\n",
       "      <td>None</td>\n",
       "      <td>{'user_mentions': [], 'urls': [{'url': 'https:...</td>\n",
       "      <td>&lt;a href=\"http://twitter.com/download/iphone\" r...</td>\n",
       "      <td>None</td>\n",
       "      <td>False</td>\n",
       "    </tr>\n",
       "    <tr>\n",
       "      <th>2</th>\n",
       "      <td>False</td>\n",
       "      <td>891815181378084864</td>\n",
       "      <td>None</td>\n",
       "      <td>None</td>\n",
       "      <td>None</td>\n",
       "      <td>True</td>\n",
       "      <td>891815181378084864</td>\n",
       "      <td>This is Archie. He is a rare Norwegian Pouncin...</td>\n",
       "      <td>None</td>\n",
       "      <td>None</td>\n",
       "      <td>...</td>\n",
       "      <td>en</td>\n",
       "      <td>None</td>\n",
       "      <td>False</td>\n",
       "      <td>None</td>\n",
       "      <td>4274</td>\n",
       "      <td>None</td>\n",
       "      <td>{'user_mentions': [], 'urls': [{'url': 'https:...</td>\n",
       "      <td>&lt;a href=\"http://twitter.com/download/iphone\" r...</td>\n",
       "      <td>None</td>\n",
       "      <td>False</td>\n",
       "    </tr>\n",
       "    <tr>\n",
       "      <th>3</th>\n",
       "      <td>False</td>\n",
       "      <td>891689557279858688</td>\n",
       "      <td>None</td>\n",
       "      <td>None</td>\n",
       "      <td>None</td>\n",
       "      <td>False</td>\n",
       "      <td>891689557279858688</td>\n",
       "      <td>This is Darla. She commenced a snooze mid meal...</td>\n",
       "      <td>None</td>\n",
       "      <td>None</td>\n",
       "      <td>...</td>\n",
       "      <td>en</td>\n",
       "      <td>None</td>\n",
       "      <td>False</td>\n",
       "      <td>None</td>\n",
       "      <td>8884</td>\n",
       "      <td>{'media': [{'id_str': '891689552724799489', 'i...</td>\n",
       "      <td>{'user_mentions': [], 'urls': [], 'media': [{'...</td>\n",
       "      <td>&lt;a href=\"http://twitter.com/download/iphone\" r...</td>\n",
       "      <td>None</td>\n",
       "      <td>False</td>\n",
       "    </tr>\n",
       "    <tr>\n",
       "      <th>4</th>\n",
       "      <td>False</td>\n",
       "      <td>891327558926688256</td>\n",
       "      <td>None</td>\n",
       "      <td>None</td>\n",
       "      <td>None</td>\n",
       "      <td>True</td>\n",
       "      <td>891327558926688256</td>\n",
       "      <td>This is Franklin. He would like you to stop ca...</td>\n",
       "      <td>None</td>\n",
       "      <td>None</td>\n",
       "      <td>...</td>\n",
       "      <td>en</td>\n",
       "      <td>None</td>\n",
       "      <td>False</td>\n",
       "      <td>None</td>\n",
       "      <td>9670</td>\n",
       "      <td>None</td>\n",
       "      <td>{'user_mentions': [], 'urls': [{'url': 'https:...</td>\n",
       "      <td>&lt;a href=\"http://twitter.com/download/iphone\" r...</td>\n",
       "      <td>None</td>\n",
       "      <td>False</td>\n",
       "    </tr>\n",
       "  </tbody>\n",
       "</table>\n",
       "<p>5 rows × 29 columns</p>\n",
       "</div>"
      ],
      "text/plain": [
       "   favorited                  id quoted_status_id coordinates quoted_status  \\\n",
       "0      False  892420643555336193             None        None          None   \n",
       "1      False  892177421306343426             None        None          None   \n",
       "2      False  891815181378084864             None        None          None   \n",
       "3      False  891689557279858688             None        None          None   \n",
       "4      False  891327558926688256             None        None          None   \n",
       "\n",
       "   truncated              id_str  \\\n",
       "0      False  892420643555336193   \n",
       "1       True  892177421306343426   \n",
       "2       True  891815181378084864   \n",
       "3      False  891689557279858688   \n",
       "4       True  891327558926688256   \n",
       "\n",
       "                                                text in_reply_to_status_id  \\\n",
       "0  This is Phineas. He's a mystical boy. Only eve...                  None   \n",
       "1  This is Tilly. She's just checking pup on you....                  None   \n",
       "2  This is Archie. He is a rare Norwegian Pouncin...                  None   \n",
       "3  This is Darla. She commenced a snooze mid meal...                  None   \n",
       "4  This is Franklin. He would like you to stop ca...                  None   \n",
       "\n",
       "  retweeted_status       ...       lang contributors possibly_sensitive  \\\n",
       "0             None       ...         en         None              False   \n",
       "1             None       ...         en         None              False   \n",
       "2             None       ...         en         None              False   \n",
       "3             None       ...         en         None              False   \n",
       "4             None       ...         en         None              False   \n",
       "\n",
       "   place retweet_count                                  extended_entities  \\\n",
       "0   None          8795  {'media': [{'id_str': '892420639486877696', 'i...   \n",
       "1   None          6449                                               None   \n",
       "2   None          4274                                               None   \n",
       "3   None          8884  {'media': [{'id_str': '891689552724799489', 'i...   \n",
       "4   None          9670                                               None   \n",
       "\n",
       "                                            entities  \\\n",
       "0  {'user_mentions': [], 'urls': [], 'media': [{'...   \n",
       "1  {'user_mentions': [], 'urls': [{'url': 'https:...   \n",
       "2  {'user_mentions': [], 'urls': [{'url': 'https:...   \n",
       "3  {'user_mentions': [], 'urls': [], 'media': [{'...   \n",
       "4  {'user_mentions': [], 'urls': [{'url': 'https:...   \n",
       "\n",
       "                                              source   geo is_quote_status  \n",
       "0  <a href=\"http://twitter.com/download/iphone\" r...  None           False  \n",
       "1  <a href=\"http://twitter.com/download/iphone\" r...  None           False  \n",
       "2  <a href=\"http://twitter.com/download/iphone\" r...  None           False  \n",
       "3  <a href=\"http://twitter.com/download/iphone\" r...  None           False  \n",
       "4  <a href=\"http://twitter.com/download/iphone\" r...  None           False  \n",
       "\n",
       "[5 rows x 29 columns]"
      ]
     },
     "execution_count": 320,
     "metadata": {},
     "output_type": "execute_result"
    }
   ],
   "source": [
    "twitter_extra.head()"
   ]
  },
  {
   "cell_type": "code",
   "execution_count": 321,
   "metadata": {
    "collapsed": true
   },
   "outputs": [],
   "source": [
    "## take only needed columns\n",
    "twitter_extra = twitter_extra[['id','retweet_count','favorite_count']]"
   ]
  },
  {
   "cell_type": "code",
   "execution_count": 322,
   "metadata": {},
   "outputs": [
    {
     "data": {
      "text/html": [
       "<div>\n",
       "<style>\n",
       "    .dataframe thead tr:only-child th {\n",
       "        text-align: right;\n",
       "    }\n",
       "\n",
       "    .dataframe thead th {\n",
       "        text-align: left;\n",
       "    }\n",
       "\n",
       "    .dataframe tbody tr th {\n",
       "        vertical-align: top;\n",
       "    }\n",
       "</style>\n",
       "<table border=\"1\" class=\"dataframe\">\n",
       "  <thead>\n",
       "    <tr style=\"text-align: right;\">\n",
       "      <th></th>\n",
       "      <th>id</th>\n",
       "      <th>retweet_count</th>\n",
       "      <th>favorite_count</th>\n",
       "    </tr>\n",
       "  </thead>\n",
       "  <tbody>\n",
       "    <tr>\n",
       "      <th>0</th>\n",
       "      <td>892420643555336193</td>\n",
       "      <td>8795</td>\n",
       "      <td>39372</td>\n",
       "    </tr>\n",
       "    <tr>\n",
       "      <th>1</th>\n",
       "      <td>892177421306343426</td>\n",
       "      <td>6449</td>\n",
       "      <td>33695</td>\n",
       "    </tr>\n",
       "    <tr>\n",
       "      <th>2</th>\n",
       "      <td>891815181378084864</td>\n",
       "      <td>4274</td>\n",
       "      <td>25391</td>\n",
       "    </tr>\n",
       "    <tr>\n",
       "      <th>3</th>\n",
       "      <td>891689557279858688</td>\n",
       "      <td>8884</td>\n",
       "      <td>42740</td>\n",
       "    </tr>\n",
       "    <tr>\n",
       "      <th>4</th>\n",
       "      <td>891327558926688256</td>\n",
       "      <td>9670</td>\n",
       "      <td>40896</td>\n",
       "    </tr>\n",
       "  </tbody>\n",
       "</table>\n",
       "</div>"
      ],
      "text/plain": [
       "                   id  retweet_count  favorite_count\n",
       "0  892420643555336193           8795           39372\n",
       "1  892177421306343426           6449           33695\n",
       "2  891815181378084864           4274           25391\n",
       "3  891689557279858688           8884           42740\n",
       "4  891327558926688256           9670           40896"
      ]
     },
     "execution_count": 322,
     "metadata": {},
     "output_type": "execute_result"
    }
   ],
   "source": [
    "twitter_extra.head()"
   ]
  },
  {
   "cell_type": "markdown",
   "metadata": {},
   "source": [
    "## 2. Assessing the data\n",
    "\n",
    "### Key points to keep in mind when data wrangling for this project:\n",
    "\n",
    "- We only want original ratings (no retweets) that have images.\n",
    "- Fully assessing and cleaning the entire dataset requires exceptional effort so only a subset of its issues (eight (8) quality issues and two (2) tidiness issues at minimum) need to be assessed and cleaned.\n",
    "- Cleaning includes merging individual pieces of data according to the rules of tidy data.\n",
    "\n",
    "### Implement data quality checks:\n",
    "\n",
    "1. Is tweet_id unique in each of the dataframes?\n",
    "2. Check whether twitter_archive dataset contains retweets (in_reply_to_status_id is not null)\n",
    "3. Check whether all dataframes contain the same number of tweet_id's\n",
    "4. Check for which tweets the image is not available\n",
    "5. Check whether name of the dog is extrated correctly in twitter_archive dataframe\n",
    "6. Check whether rating_numerator & rating_denominator are extrated correctly in twitter_archive dataframe\n",
    "7. Check how doggo/floofer/pupper/puppo columns are formed in twitter_archive dataframe; can a dog be at the same time both doggo and floofer (or another combination)?"
   ]
  },
  {
   "cell_type": "markdown",
   "metadata": {},
   "source": [
    "### Check 2.1.\n",
    "**Question:** Is tweet_id unique in each of the dataframes?\n",
    "\n",
    "**Conclusion:** no dataframe contains multiple records per tweet id"
   ]
  },
  {
   "cell_type": "code",
   "execution_count": 323,
   "metadata": {},
   "outputs": [
    {
     "name": "stdout",
     "output_type": "stream",
     "text": [
      "True\n",
      "True\n",
      "True\n"
     ]
    }
   ],
   "source": [
    "print(len(twitter_archive)==len(twitter_archive.tweet_id.unique()))\n",
    "print(len(twitter_extra)==len(twitter_extra.id.unique()))\n",
    "print(len(image_predictions)==len(image_predictions.tweet_id.unique()))"
   ]
  },
  {
   "cell_type": "markdown",
   "metadata": {},
   "source": [
    "### Check 2.2.\n",
    "**Question:** Check whether twitter_archive dataset contains retweets (where any of retweet-related columns is not null)\n",
    "\n",
    "**Conclusion:** twitter_archive contains 259 retweets"
   ]
  },
  {
   "cell_type": "code",
   "execution_count": 444,
   "metadata": {},
   "outputs": [
    {
     "data": {
      "text/plain": [
       "259"
      ]
     },
     "execution_count": 444,
     "metadata": {},
     "output_type": "execute_result"
    }
   ],
   "source": [
    "len(twitter_archive[(~pd.isnull(twitter_archive.in_reply_to_status_id)) | \\\n",
    "                    (~pd.isnull(twitter_archive.in_reply_to_user_id)) | \\\n",
    "                    (~pd.isnull(twitter_archive.retweeted_status_id)) | \\\n",
    "                    (~pd.isnull(twitter_archive.retweeted_status_user_id)) | \\\n",
    "                    (~pd.isnull(twitter_archive.retweeted_status_timestamp))]) "
   ]
  },
  {
   "cell_type": "markdown",
   "metadata": {},
   "source": [
    "### Check 2.3.\n",
    "**Question:** Check whether all dataframes contain the same number of tweet_id's\n",
    "\n",
    "**Conclusion:** It is not the case. Twitter_archive has the most tweet id´s. Twitter_extra (extracted using Twitter API) contains less (we could not find information for 6 tweets). Image_predictions does not have predictions for 281 tweets."
   ]
  },
  {
   "cell_type": "code",
   "execution_count": 325,
   "metadata": {},
   "outputs": [
    {
     "name": "stdout",
     "output_type": "stream",
     "text": [
      "2356\n",
      "2350\n",
      "2075\n"
     ]
    }
   ],
   "source": [
    "print(len(twitter_archive))\n",
    "print(len(twitter_extra))\n",
    "print(len(image_predictions))"
   ]
  },
  {
   "cell_type": "markdown",
   "metadata": {},
   "source": [
    "### Check 2.4.\n",
    "**Question:** Check for which tweets the image is not available\n",
    "\n",
    "**Conclusion:**  Images are not available for 281 tweets"
   ]
  },
  {
   "cell_type": "code",
   "execution_count": 327,
   "metadata": {},
   "outputs": [
    {
     "name": "stdout",
     "output_type": "stream",
     "text": [
      "Images are not available for 281 tweets\n"
     ]
    }
   ],
   "source": [
    "tweets_without_images = set(twitter_archive.tweet_id) - set(image_predictions.tweet_id)\n",
    "print('Images are not available for %d tweets' %len(tweets_without_images))"
   ]
  },
  {
   "cell_type": "code",
   "execution_count": 376,
   "metadata": {},
   "outputs": [
    {
     "data": {
      "text/html": [
       "<div>\n",
       "<style>\n",
       "    .dataframe thead tr:only-child th {\n",
       "        text-align: right;\n",
       "    }\n",
       "\n",
       "    .dataframe thead th {\n",
       "        text-align: left;\n",
       "    }\n",
       "\n",
       "    .dataframe tbody tr th {\n",
       "        vertical-align: top;\n",
       "    }\n",
       "</style>\n",
       "<table border=\"1\" class=\"dataframe\">\n",
       "  <thead>\n",
       "    <tr style=\"text-align: right;\">\n",
       "      <th></th>\n",
       "      <th>tweet_id</th>\n",
       "      <th>jpg_url</th>\n",
       "      <th>img_num</th>\n",
       "      <th>p1</th>\n",
       "      <th>p1_conf</th>\n",
       "      <th>p1_dog</th>\n",
       "      <th>p2</th>\n",
       "      <th>p2_conf</th>\n",
       "      <th>p2_dog</th>\n",
       "      <th>p3</th>\n",
       "      <th>p3_conf</th>\n",
       "      <th>p3_dog</th>\n",
       "    </tr>\n",
       "  </thead>\n",
       "  <tbody>\n",
       "  </tbody>\n",
       "</table>\n",
       "</div>"
      ],
      "text/plain": [
       "Empty DataFrame\n",
       "Columns: [tweet_id, jpg_url, img_num, p1, p1_conf, p1_dog, p2, p2_conf, p2_dog, p3, p3_conf, p3_dog]\n",
       "Index: []"
      ]
     },
     "execution_count": 376,
     "metadata": {},
     "output_type": "execute_result"
    }
   ],
   "source": [
    "image_predictions[pd.isnull(image_predictions.jpg_url)]"
   ]
  },
  {
   "cell_type": "markdown",
   "metadata": {},
   "source": [
    "### Check 2.5.\n",
    "**Question:** Check whether name of the dog is extrated correctly in twitter_archive dataframe\n",
    "\n",
    "**Conclusion:**  Extracting names seems to be an issue, as I have expected:\n",
    "- It seems to be extracted as the word following 'Meet' or 'This is', sometimes it is 'a', or 'such'. Doing it right is quite complicated; but could be improved (by at least removing stop words like 'an'/'a'/'such'/'quite'/'the')\n",
    "- Some present names are missing. For example, names are not returned if it follows 'his name is'\n",
    "- If name is not present, it is stored as string 'None', much better if it is an empty string"
   ]
  },
  {
   "cell_type": "code",
   "execution_count": 377,
   "metadata": {
    "scrolled": true
   },
   "outputs": [
    {
     "name": "stdout",
     "output_type": "stream",
     "text": [
      "Text: I've yet to rate a Venezuelan Hover Wiener. This is such an honor. 14/10 paw-inspiring af (IG: roxy.thedoxy) https://t.co/20VrLAA8ba; \n",
      "Extracted name: such\n",
      "\n",
      "Text: This is an Albanian 3 1/2 legged  Episcopalian. Loves well-polished hardwood flooring. Penis on the collar. 9/10 https://t.co/d9NcXFKwLv; \n",
      "Extracted name: an\n",
      "\n",
      "Text: This is quite the dog. Gets really excited when not in water. Not very soft tho. Bad at fetch. Can't do tricks. 2/10 https://t.co/aMCTNWO94t; \n",
      "Extracted name: quite\n",
      "\n",
      "Text: This is the happiest dog you will ever see. Very committed owner. Nice couch. 10/10 https://t.co/RhUEAloehK; \n",
      "Extracted name: the\n",
      "\n",
      "Text: I have a new hero and his name is Howard. 14/10 https://t.co/gzLHboL7Sk; \n",
      "Extracted name: None\n"
     ]
    }
   ],
   "source": [
    "## Couple of examples here:\n",
    "print ('Text: %s; \\nExtracted name: %s' %(twitter_archive.text[22],twitter_archive.name[22]))\n",
    "print ('\\nText: %s; \\nExtracted name: %s' %(twitter_archive.text[2335],twitter_archive.name[2335]))\n",
    "print ('\\nText: %s; \\nExtracted name: %s' %(twitter_archive.text[2326],twitter_archive.name[2326]))\n",
    "print ('\\nText: %s; \\nExtracted name: %s' %(twitter_archive.text[2345],twitter_archive.name[2345]))\n",
    "\n",
    "print ('\\nText: %s; \\nExtracted name: %s' %(twitter_archive.text[35],twitter_archive.name[35]))\n"
   ]
  },
  {
   "cell_type": "markdown",
   "metadata": {},
   "source": [
    "### Check 2.6.\n",
    "**Question:** Check whether rating_numerator & rating_denominator are extrated correctly in twitter_archive dataframe\n",
    "\n",
    "**Conclusion:** Looks like rating numerator and denominator are defined as the first occuring couple number/number in the text. It is not always like that. Not so many examples with multiple occuring couples number/number -> can be cleaned by hand if necessary"
   ]
  },
  {
   "cell_type": "code",
   "execution_count": 378,
   "metadata": {},
   "outputs": [
    {
     "name": "stdout",
     "output_type": "stream",
     "text": [
      "Text: This is an Albanian 3 1/2 legged  Episcopalian. Loves well-polished hardwood flooring. Penis on the collar. 9/10 https://t.co/d9NcXFKwLv; \n",
      "Numerator: 1, \n",
      "Denominator: 2\n",
      "\n",
      "Text: Say hello to this unbelievably well behaved squad of doggos. 204/170 would try to pet all at once https://t.co/yGQI3He3xv; \n",
      "Numerator: 204, \n",
      "Denominator: 170\n"
     ]
    }
   ],
   "source": [
    "## An examples here where it goes wrong (should be 9/10):\n",
    "print ('Text: %s; \\nNumerator: %d, \\nDenominator: %d' %(twitter_archive.text[2335],\n",
    "                                                         twitter_archive.rating_numerator[2335],\n",
    "                                                         twitter_archive.rating_denominator[2335]))\n",
    "\n",
    "## Handy to check all possible values of numerator and take a look at weird examples\n",
    "## Turns out, people sometimes give weird values.\n",
    "print ('\\nText: %s; \\nNumerator: %d, \\nDenominator: %d' %(twitter_archive.text[1120],\n",
    "                                                         twitter_archive.rating_numerator[1120],\n",
    "                                                         twitter_archive.rating_denominator[1120]))"
   ]
  },
  {
   "cell_type": "code",
   "execution_count": 414,
   "metadata": {},
   "outputs": [
    {
     "data": {
      "text/plain": [
       "<matplotlib.axes._subplots.AxesSubplot at 0x7efee023d080>"
      ]
     },
     "execution_count": 414,
     "metadata": {},
     "output_type": "execute_result"
    },
    {
     "data": {
      "image/png": "[encoded data removed]",
      "text/plain": [
       "<matplotlib.figure.Figure at 0x7efee03bd7b8>"
      ]
     },
     "metadata": {},
     "output_type": "display_data"
    }
   ],
   "source": [
    "plt.figure(figsize=(15,7))\n",
    "sns.countplot(twitter_archive.rating_denominator)"
   ]
  },
  {
   "cell_type": "code",
   "execution_count": 412,
   "metadata": {},
   "outputs": [
    {
     "data": {
      "text/plain": [
       "<matplotlib.axes._subplots.AxesSubplot at 0x7efedffe5978>"
      ]
     },
     "execution_count": 412,
     "metadata": {},
     "output_type": "execute_result"
    },
    {
     "data": {
      "image/png": "[encoded data removed]",
      "text/plain": [
       "<matplotlib.figure.Figure at 0x7efee03fab70>"
      ]
     },
     "metadata": {},
     "output_type": "display_data"
    }
   ],
   "source": [
    "plt.figure(figsize=(15,7))\n",
    "sns.countplot(twitter_archive.rating_numerator)"
   ]
  },
  {
   "cell_type": "markdown",
   "metadata": {},
   "source": [
    "### Check 2.7.\n",
    "**Question:** Check how doggo/floofer/pupper/puppo columns are formed in twitter_archive dataframe; can a dog be at the same time both doggo and floofer (or another combination)?\n",
    "\n",
    "**Conclusion:** I am not an expert (and not a dog fan either, more a cat person :-)), but it seems to me that doggo/floofer/pupper/puppo are mutually exclusive (since it is a notion of how grown-up a dog is). Got some insights here: https://www.youtube.com/watch?v=ah6fmNEtXFI.\n",
    "\n",
    "It is then weird that a dog can be both puppo & doggo at the same time -> clearly some information extraction issues. There are also synonyms of puppo (like pup), which are being ignored (hard to solve though, maybe pretrained word2vec can help). If value is not present, it should be empty, not string 'None'\n",
    "\n",
    "Tidiness issue: better to put stages in one column instead of 4 columns (because 4 columns actually represent one variable). "
   ]
  },
  {
   "cell_type": "code",
   "execution_count": 388,
   "metadata": {},
   "outputs": [
    {
     "data": {
      "text/plain": [
       "\"Here's a puppo participating in the #ScienceMarch. Cleverly disguising her own doggo agenda. 13/10 would keep the planet habitable for https://t.co/cMhq16isel\""
      ]
     },
     "execution_count": 388,
     "metadata": {},
     "output_type": "execute_result"
    }
   ],
   "source": [
    "twitter_archive.text[191]"
   ]
  },
  {
   "cell_type": "code",
   "execution_count": 389,
   "metadata": {},
   "outputs": [
    {
     "data": {
      "text/plain": [
       "\"At first I thought this was a shy doggo, but it's actually a Rare Canadian Floofer Owl. Amateurs would confuse the two. 11/10 only send dogs https://t.co/TXdT3tmuYk\""
      ]
     },
     "execution_count": 389,
     "metadata": {},
     "output_type": "execute_result"
    }
   ],
   "source": [
    "twitter_archive.text[200]"
   ]
  },
  {
   "cell_type": "markdown",
   "metadata": {},
   "source": [
    "### Found issues\n",
    "\n",
    "#### Data quality issues:\n",
    "1. twitter_archive dataframe contains 259 retweets\n",
    "2. Dogs names in twitter_archive dataframe contain stopwords like 'an'/'a'/'such'/'quite'/'the')\n",
    "3. Dogs names in twitter_archive dataframe are missing when could be extracted\n",
    "4. Dogs names in twitter_archive dataframe are stored as string 'None' if missing instead of Python None\n",
    "5. Rating numerator and denominator in twitter_archive dataframe are not always extracted correctly\n",
    "6. The same dog can be assigned to two different stages (puppo/doggo); it looks also more like a dummy variable with 0/1 as possible values\n",
    "7. If value in columns doggo/floofer/pupper/puppo is not present, it is stored as string 'None' instead of Python None\n",
    "8. In image_predictions dataframe, prediction can be written in different ways (with capital letter/ lower case)\n",
    "9. Timestamp in twitter_archive is not stored in datetime format; create separate columns for date & time & week nr for further visualizations\n",
    "10. Source in twitter_archive is not parsed correctly (still contains html)\n",
    "11. In image_predictions dataframe, sometimes there is no single prediction per tweet that is dog\n",
    "\n",
    "#### Data tidiness issues:\n",
    "Used https://cran.r-project.org/web/packages/tidyr/vignettes/tidy-data.html for details\n",
    "\n",
    "1. Stages of dog´s growth should be in one column instead of 4 columns (because 4 columns actually represent one variable).\n",
    "2. image_predictions dataframe should have one prediction per tweet_id -> need to find the way to merge them\n",
    "3. The same observation is in multiple tables (all collected dataframes should be merged; we will loose some observations in this way)\n",
    "4. Column xpanded_urls in twitter_archive contains multiple records (comma separated) per observation (see examples under)"
   ]
  },
  {
   "cell_type": "code",
   "execution_count": 430,
   "metadata": {},
   "outputs": [
    {
     "data": {
      "text/plain": [
       "'https://twitter.com/dog_rates/status/891327558926688256/photo/1,https://twitter.com/dog_rates/status/891327558926688256/photo/1'"
      ]
     },
     "execution_count": 430,
     "metadata": {},
     "output_type": "execute_result"
    }
   ],
   "source": [
    "twitter_archive.expanded_urls[4]"
   ]
  },
  {
   "cell_type": "code",
   "execution_count": 434,
   "metadata": {},
   "outputs": [
    {
     "data": {
      "text/plain": [
       "'https://gofundme.com/ydvmve-surgery-for-jax,https://twitter.com/dog_rates/status/890971913173991426/photo/1'"
      ]
     },
     "execution_count": 434,
     "metadata": {},
     "output_type": "execute_result"
    }
   ],
   "source": [
    "twitter_archive.expanded_urls[6]"
   ]
  },
  {
   "cell_type": "markdown",
   "metadata": {},
   "source": [
    "## 3. Cleaning the data"
   ]
  },
  {
   "cell_type": "markdown",
   "metadata": {},
   "source": [
    "### 3.1. Clean twitter_archive"
   ]
  },
  {
   "cell_type": "code",
   "execution_count": 451,
   "metadata": {},
   "outputs": [],
   "source": [
    "## remove retweets, keep only useful columns\n",
    "twitter_archive1 = twitter_archive[~((~pd.isnull(twitter_archive.in_reply_to_status_id)) | \\\n",
    "                    (~pd.isnull(twitter_archive.in_reply_to_user_id)) | \\\n",
    "                    (~pd.isnull(twitter_archive.retweeted_status_id)) | \\\n",
    "                    (~pd.isnull(twitter_archive.retweeted_status_user_id)) | \\\n",
    "                    (~pd.isnull(twitter_archive.retweeted_status_timestamp)))].reset_index(drop=True)\\\n",
    "[['tweet_id', 'timestamp', 'source', 'text', 'expanded_urls', 'rating_numerator',\n",
    "       'rating_denominator', 'name', 'doggo', 'floofer', 'pupper', 'puppo']]"
   ]
  },
  {
   "cell_type": "code",
   "execution_count": 475,
   "metadata": {},
   "outputs": [],
   "source": [
    "## fix timestamps:\n",
    "from datetime import datetime\n",
    "\n",
    "twitter_archive1[\"date\"] = twitter_archive1[\"timestamp\"].\\\n",
    "apply(lambda x: datetime.date(datetime.strptime(x[0:19],\"%Y-%m-%d %H:%M:%S\")))\n",
    "twitter_archive1[\"time\"] = twitter_archive1[\"timestamp\"].\\\n",
    "apply(lambda x: datetime.time(datetime.strptime(x[0:19],\"%Y-%m-%d %H:%M:%S\")))\n",
    "twitter_archive1[\"week_nr\"] = twitter_archive1[\"date\"].apply(lambda x: x.isocalendar()[1])\n",
    "\n",
    "twitter_archive1 = twitter_archive1.drop('timestamp',axis=1)"
   ]
  },
  {
   "cell_type": "code",
   "execution_count": 483,
   "metadata": {},
   "outputs": [],
   "source": [
    "## fix source:\n",
    "## dirty solution; but works for this column;\n",
    "## I found parsers like beautifulsoup an overkill in this case\n",
    "\n",
    "twitter_archive1[\"source\"] = twitter_archive1[\"source\"].apply(lambda x: x.split('>')[1].split('<')[0])"
   ]
  },
  {
   "cell_type": "code",
   "execution_count": 505,
   "metadata": {},
   "outputs": [],
   "source": [
    "## fix expanded_urls\n",
    "\n",
    "def clean_expanded_urls(x):\n",
    "    if pd.isnull(x):\n",
    "        return x\n",
    "    else:\n",
    "        a = x.split(',')\n",
    "        return a[len(a)-1]\n",
    "    \n",
    "twitter_archive1[\"expanded_urls\"] = twitter_archive1[\"expanded_urls\"].apply(lambda x: clean_expanded_urls(x))"
   ]
  },
  {
   "cell_type": "code",
   "execution_count": 530,
   "metadata": {},
   "outputs": [
    {
     "name": "stdout",
     "output_type": "stream",
     "text": [
      "['such', 'a', 'quite', 'not', 'one', 'incredibly', 'very', 'my', 'his', 'an', 'actually', 'just', 'getting', 'mad', 'this', 'unacceptable', 'all', 'old', 'infuriating', 'the', 'by', 'officially', 'life', 'light', 'space']\n"
     ]
    }
   ],
   "source": [
    "## cleaning names: dirty hack, but removes most of the bad stuff; still not ideal\n",
    "## One of the possibilities:\n",
    "## look for all upper case words inside the sentence to see in which setup names occur to add it to the rules\n",
    "## open names dictionaries typically include too many words\n",
    "\n",
    "names_to_remove = [x for x in twitter_archive1[\"name\"].unique().tolist() if x.islower()]\n",
    "twitter_archive1[\"name\"] = twitter_archive1[\"name\"].apply(lambda x: None if x in ['None']+names_to_remove else x)\n",
    "\n",
    "print(names_to_remove)"
   ]
  },
  {
   "cell_type": "code",
   "execution_count": 547,
   "metadata": {},
   "outputs": [
    {
     "name": "stdout",
     "output_type": "stream",
     "text": [
      "777684233540206592 \n",
      "['12/10', '11/10'] \n",
      "\"Yep... just as I suspected. You're not flossing.\" 12/10 and 11/10 for the pup not flossing https://t.co/SuXcI9B7pQ \n",
      "12/10\n",
      "747600769478692864 \n",
      "['10/10', '7/10'] \n",
      "This is Bookstore and Seaweed. Bookstore is tired and Seaweed is an asshole. 10/10 and 7/10 respectively https://t.co/eUGjGjjFVJ \n",
      "10/10\n",
      "740373189193256964 \n",
      "['9/11', '14/10'] \n",
      "After so many requests, this is Bretagne. She was the last surviving 9/11 search dog, and our second ever 14/10. RIP https://t.co/XAVDNDaVgQ \n",
      "9/11\n",
      "722974582966214656 \n",
      "['4/20', '13/10'] \n",
      "Happy 4/20 from the squad! 13/10 for all https://t.co/eV1diwds8a \n",
      "4/20\n",
      "716439118184652801 \n",
      "['50/50', '11/10'] \n",
      "This is Bluebert. He just saw that both #FinalFur match ups are split 50/50. Amazed af. 11/10 https://t.co/Kky1DPG4iq \n",
      "50/50\n",
      "714258258790387713 \n",
      "['10/10', '8/10'] \n",
      "Meet Travis and Flurp. Travis is pretty chill but Flurp can't lie down properly. 10/10 &amp; 8/10\n",
      "get it together Flurp https://t.co/Akzl5ynMmE \n",
      "10/10\n",
      "703356393781329922 \n",
      "['9/10', '2/10'] \n",
      "This is Socks. That water pup w the super legs just splashed him. Socks did not appreciate that. 9/10 and 2/10 https://t.co/8rc5I22bBf \n",
      "9/10\n",
      "695064344191721472 \n",
      "['4/10', '13/10'] \n",
      "This may be the greatest video I've ever been sent. 4/10 for Charles the puppy, 13/10 overall. (Vid by @stevenxx_) https://t.co/uaJmNgXR2P \n",
      "4/10\n",
      "694352839993344000 \n",
      "['10/10', '5/10'] \n",
      "Meet Oliviér. He takes killer selfies. Has a dog of his own. It leaps at random &amp; can't bark for shit. 10/10 &amp; 5/10 https://t.co/6NgsQJuSBJ \n",
      "10/10\n",
      "691483041324204033 \n",
      "['5/10', '10/10'] \n",
      "When bae says they can't go out but you see them with someone else that same night. 5/10 &amp; 10/10 for heartbroken pup https://t.co/aenk0KpoWM \n",
      "5/10\n",
      "690400367696297985 \n",
      "['10/10', '6/10'] \n",
      "This is Eriq. His friend just reminded him of last year's super bowl. Not cool friend\n",
      "10/10 for Eriq\n",
      "6/10 for friend https://t.co/PlEXTofdpf \n",
      "10/10\n",
      "689835978131935233 \n",
      "['11/10', '10/10'] \n",
      "Meet Fynn &amp; Taco. Fynn is an all-powerful leaf lord and Taco is in the wrong place at the wrong time. 11/10 &amp; 10/10 https://t.co/MuqHPvtL8c \n",
      "11/10\n",
      "682962037429899265 \n",
      "['7/11', '10/10'] \n",
      "This is Darrel. He just robbed a 7/11 and is in a high speed police chase. Was just spotted by the helicopter 10/10 https://t.co/7EsP8LmSp5 \n",
      "7/11\n",
      "677314812125323265 \n",
      "['10/10', '11/10'] \n",
      "Meet Tassy &amp; Bee. Tassy is pretty chill, but Bee is convinced the Ruffles are haunted. 10/10 &amp; 11/10 respectively https://t.co/fgORpmTN9C \n",
      "10/10\n",
      "676191832485810177 \n",
      "['10/10', '7/10'] \n",
      "These two pups just met and have instantly bonded. Spectacular scene. Mesmerizing af. 10/10 and 7/10 for blue dog https://t.co/gwryaJO4tC \n",
      "10/10\n",
      "674737130913071104 \n",
      "['10/10', '4/10'] \n",
      "Meet Rufio. He is unaware of the pink legless pupper wrapped around him. Might want to get that checked 10/10 &amp; 4/10 https://t.co/KNfLnYPmYh \n",
      "10/10\n",
      "674646392044941312 \n",
      "['5/10', '8/10'] \n",
      "Two gorgeous dogs here. Little waddling dog is a rebel. Refuses to look at camera. Must be a preteen. 5/10 &amp; 8/10 https://t.co/YPfw7oahbD \n",
      "5/10\n",
      "673295268553605120 \n",
      "['8/10', '11/10'] \n",
      "Meet Eve. She's a raging alcoholic 8/10 (would b 11/10 but pupper alcoholism is a tragic issue that I can't condone) https://t.co/U36HYQIijg \n",
      "8/10\n",
      "672248013293752320 \n",
      "['10/10', '7/10', '12/10'] \n",
      "10/10 for dog. 7/10 for cat. 12/10 for human. Much skill. Would pet all https://t.co/uhx5gfpx5k \n",
      "10/10\n",
      "671154572044468225 \n",
      "['11/10', '8/10'] \n",
      "Meet Holly. She's trying to teach small human-like pup about blocks but he's not paying attention smh. 11/10 &amp; 8/10 https://t.co/RcksaUrGNu \n",
      "11/10\n",
      "670434127938719744 \n",
      "['11/10', '8/10'] \n",
      "Meet Hank and Sully. Hank is very proud of the pumpkin they found and Sully doesn't give a shit. 11/10 and 8/10 https://t.co/cwoP1ftbrj \n",
      "11/10\n",
      "669037058363662336 \n",
      "['10/10', '7/10'] \n",
      "Here we have Pancho and Peaches. Pancho is a Condoleezza Gryffindor, and Peaches is just an asshole. 10/10 &amp; 7/10 https://t.co/Lh1BsJrWPp \n",
      "10/10\n",
      "668537837512433665 \n",
      "['8/10', '1/10'] \n",
      "This is Spark. He's nervous. Other dog hasn't moved in a while. Won't come when called. Doesn't fetch well 8/10&amp;1/10 https://t.co/stEodX9Aba \n",
      "8/10\n",
      "667544320556335104 \n",
      "['10/10', '4/10'] \n",
      "This is Kial. Kial is either wearing a cape, which would be rad, or flashing us, which would be rude. 10/10 or 4/10 https://t.co/8zcwIoiuqR \n",
      "10/10\n",
      "667491009379606528 \n",
      "['7/10', '8/10'] \n",
      "Two dogs in this one. Both are rare Jujitsu Pythagoreans. One slightly whiter than other. Long legs. 7/10 and 8/10 https://t.co/ITxxcc4v9y \n",
      "7/10\n",
      "666835007768551424 \n",
      "['10/10', '10/10'] \n",
      "These are Peruvian Feldspars. Their names are Cupit and Prencer. Both resemble Rand Paul. Sick outfits 10/10 &amp; 10/10 https://t.co/ZnEMHBsAs1 \n",
      "10/10\n",
      "666287406224695296 \n",
      "['1/2', '9/10'] \n",
      "This is an Albanian 3 1/2 legged  Episcopalian. Loves well-polished hardwood flooring. Penis on the collar. 9/10 https://t.co/d9NcXFKwLv \n",
      "1/2\n"
     ]
    }
   ],
   "source": [
    "## cleaning numerator&denominator\n",
    "## doing by hand since not so many examples with multiple ratings-like numbers;\n",
    "## often there are just 2 ratings (so choosing one is probably ok), but there are couple of clear mistakes\n",
    "import re\n",
    "for i in range(len(twitter_archive1)):\n",
    "    a = re.findall(r'\\d+/\\d+', twitter_archive1.text[i])\n",
    "    if len(a)>1:\n",
    "        print(twitter_archive1.tweet_id[i], '\\n'+str(a), '\\n'+twitter_archive1.text[i], '\\n'+str(twitter_archive1.rating_numerator[i])+'/'+\\\n",
    "              str(twitter_archive1.rating_denominator[i]))"
   ]
  },
  {
   "cell_type": "code",
   "execution_count": 555,
   "metadata": {},
   "outputs": [],
   "source": [
    "## clearly examples to fix by hand:\n",
    "numerator_denominator_dict={740373189193256964:'14/10',\n",
    "                            722974582966214656:'13/10',\n",
    "                            716439118184652801:'11/10',\n",
    "                            666287406224695296:'9/10'}\n",
    "\n",
    "for i in numerator_denominator_dict:\n",
    "    twitter_archive1.loc[twitter_archive1['tweet_id'] == i, \"rating_numerator\"] = \\\n",
    "    int(numerator_denominator_dict[i].split('/')[0])\n",
    "    twitter_archive1.loc[twitter_archive1['tweet_id'] == i, \"rating_denominator\"] = \\\n",
    "    int(numerator_denominator_dict[i].split('/')[1])"
   ]
  },
  {
   "cell_type": "code",
   "execution_count": 560,
   "metadata": {
    "collapsed": true
   },
   "outputs": [],
   "source": [
    "## dog growth_stage\n",
    "twitter_archive1['doggo'] = twitter_archive1['doggo'].apply(lambda x: None if x=='None' else x)\n",
    "twitter_archive1['floofer'] = twitter_archive1['floofer'].apply(lambda x: None if x=='None' else x)\n",
    "twitter_archive1['pupper'] = twitter_archive1['pupper'].apply(lambda x: None if x=='None' else x)\n",
    "twitter_archive1['puppo'] = twitter_archive1['puppo'].apply(lambda x: None if x=='None' else x)\n",
    "twitter_archive1['growth_stage']=twitter_archive1['puppo'].fillna(twitter_archive1['pupper']).\\\n",
    "fillna(twitter_archive1['doggo']).fillna(twitter_archive1['floofer'])\n",
    "\n",
    "twitter_archive1 = twitter_archive1.drop(['puppo','pupper','floofer','doggo'],axis=1)"
   ]
  },
  {
   "cell_type": "code",
   "execution_count": 566,
   "metadata": {},
   "outputs": [
    {
     "data": {
      "text/html": [
       "<div>\n",
       "<style>\n",
       "    .dataframe thead tr:only-child th {\n",
       "        text-align: right;\n",
       "    }\n",
       "\n",
       "    .dataframe thead th {\n",
       "        text-align: left;\n",
       "    }\n",
       "\n",
       "    .dataframe tbody tr th {\n",
       "        vertical-align: top;\n",
       "    }\n",
       "</style>\n",
       "<table border=\"1\" class=\"dataframe\">\n",
       "  <thead>\n",
       "    <tr style=\"text-align: right;\">\n",
       "      <th></th>\n",
       "      <th>tweet_id</th>\n",
       "      <th>source</th>\n",
       "      <th>text</th>\n",
       "      <th>expanded_urls</th>\n",
       "      <th>rating_numerator</th>\n",
       "      <th>rating_denominator</th>\n",
       "      <th>name</th>\n",
       "      <th>date</th>\n",
       "      <th>time</th>\n",
       "      <th>week_nr</th>\n",
       "      <th>growth_stage</th>\n",
       "    </tr>\n",
       "  </thead>\n",
       "  <tbody>\n",
       "    <tr>\n",
       "      <th>0</th>\n",
       "      <td>892420643555336193</td>\n",
       "      <td>Twitter for iPhone</td>\n",
       "      <td>This is Phineas. He's a mystical boy. Only eve...</td>\n",
       "      <td>https://twitter.com/dog_rates/status/892420643...</td>\n",
       "      <td>13</td>\n",
       "      <td>10</td>\n",
       "      <td>Phineas</td>\n",
       "      <td>2017-08-01</td>\n",
       "      <td>16:23:56</td>\n",
       "      <td>31</td>\n",
       "      <td>None</td>\n",
       "    </tr>\n",
       "    <tr>\n",
       "      <th>1</th>\n",
       "      <td>892177421306343426</td>\n",
       "      <td>Twitter for iPhone</td>\n",
       "      <td>This is Tilly. She's just checking pup on you....</td>\n",
       "      <td>https://twitter.com/dog_rates/status/892177421...</td>\n",
       "      <td>13</td>\n",
       "      <td>10</td>\n",
       "      <td>Tilly</td>\n",
       "      <td>2017-08-01</td>\n",
       "      <td>00:17:27</td>\n",
       "      <td>31</td>\n",
       "      <td>None</td>\n",
       "    </tr>\n",
       "    <tr>\n",
       "      <th>2</th>\n",
       "      <td>891815181378084864</td>\n",
       "      <td>Twitter for iPhone</td>\n",
       "      <td>This is Archie. He is a rare Norwegian Pouncin...</td>\n",
       "      <td>https://twitter.com/dog_rates/status/891815181...</td>\n",
       "      <td>12</td>\n",
       "      <td>10</td>\n",
       "      <td>Archie</td>\n",
       "      <td>2017-07-31</td>\n",
       "      <td>00:18:03</td>\n",
       "      <td>31</td>\n",
       "      <td>None</td>\n",
       "    </tr>\n",
       "    <tr>\n",
       "      <th>3</th>\n",
       "      <td>891689557279858688</td>\n",
       "      <td>Twitter for iPhone</td>\n",
       "      <td>This is Darla. She commenced a snooze mid meal...</td>\n",
       "      <td>https://twitter.com/dog_rates/status/891689557...</td>\n",
       "      <td>13</td>\n",
       "      <td>10</td>\n",
       "      <td>Darla</td>\n",
       "      <td>2017-07-30</td>\n",
       "      <td>15:58:51</td>\n",
       "      <td>30</td>\n",
       "      <td>None</td>\n",
       "    </tr>\n",
       "    <tr>\n",
       "      <th>4</th>\n",
       "      <td>891327558926688256</td>\n",
       "      <td>Twitter for iPhone</td>\n",
       "      <td>This is Franklin. He would like you to stop ca...</td>\n",
       "      <td>https://twitter.com/dog_rates/status/891327558...</td>\n",
       "      <td>12</td>\n",
       "      <td>10</td>\n",
       "      <td>Franklin</td>\n",
       "      <td>2017-07-29</td>\n",
       "      <td>16:00:24</td>\n",
       "      <td>30</td>\n",
       "      <td>None</td>\n",
       "    </tr>\n",
       "  </tbody>\n",
       "</table>\n",
       "</div>"
      ],
      "text/plain": [
       "             tweet_id              source  \\\n",
       "0  892420643555336193  Twitter for iPhone   \n",
       "1  892177421306343426  Twitter for iPhone   \n",
       "2  891815181378084864  Twitter for iPhone   \n",
       "3  891689557279858688  Twitter for iPhone   \n",
       "4  891327558926688256  Twitter for iPhone   \n",
       "\n",
       "                                                text  \\\n",
       "0  This is Phineas. He's a mystical boy. Only eve...   \n",
       "1  This is Tilly. She's just checking pup on you....   \n",
       "2  This is Archie. He is a rare Norwegian Pouncin...   \n",
       "3  This is Darla. She commenced a snooze mid meal...   \n",
       "4  This is Franklin. He would like you to stop ca...   \n",
       "\n",
       "                                       expanded_urls  rating_numerator  \\\n",
       "0  https://twitter.com/dog_rates/status/892420643...                13   \n",
       "1  https://twitter.com/dog_rates/status/892177421...                13   \n",
       "2  https://twitter.com/dog_rates/status/891815181...                12   \n",
       "3  https://twitter.com/dog_rates/status/891689557...                13   \n",
       "4  https://twitter.com/dog_rates/status/891327558...                12   \n",
       "\n",
       "   rating_denominator      name        date      time  week_nr growth_stage  \n",
       "0                  10   Phineas  2017-08-01  16:23:56       31         None  \n",
       "1                  10     Tilly  2017-08-01  00:17:27       31         None  \n",
       "2                  10    Archie  2017-07-31  00:18:03       31         None  \n",
       "3                  10     Darla  2017-07-30  15:58:51       30         None  \n",
       "4                  10  Franklin  2017-07-29  16:00:24       30         None  "
      ]
     },
     "execution_count": 566,
     "metadata": {},
     "output_type": "execute_result"
    }
   ],
   "source": [
    "twitter_archive1.head()"
   ]
  },
  {
   "cell_type": "markdown",
   "metadata": {},
   "source": [
    "### 3.2. Clean image_predictions"
   ]
  },
  {
   "cell_type": "code",
   "execution_count": 584,
   "metadata": {},
   "outputs": [],
   "source": [
    "import numpy as np\n",
    "## we want to remove all rows where no single prediction is dog\n",
    "image_predictions1 = image_predictions[~((image_predictions.p1_dog==False) &\n",
    "                  (image_predictions.p2_dog==False) & \n",
    "                  (image_predictions.p3_dog==False))].reset_index(drop=True)\n",
    "\n",
    "## if prediction is not a dog, change prediction to None\n",
    "image_predictions1.loc[image_predictions1['p1_dog'] == False, \"p1\"] = None\n",
    "image_predictions1.loc[image_predictions1['p2_dog'] == False, \"p2\"] = None\n",
    "image_predictions1.loc[image_predictions1['p3_dog'] == False, \"p3\"] = None\n",
    "\n",
    "image_predictions1.loc[image_predictions1['p1_dog'] == False, \"p1_conf\"] = np.nan\n",
    "image_predictions1.loc[image_predictions1['p2_dog'] == False, \"p2_conf\"] = np.nan\n",
    "image_predictions1.loc[image_predictions1['p3_dog'] == False, \"p3_conf\"] = np.nan\n",
    "\n",
    "image_predictions1['p'] = image_predictions1['p1'].fillna(image_predictions1['p2']).fillna(image_predictions1['p3'])\n",
    "image_predictions1['p_conf'] = image_predictions1['p1_conf'].fillna(image_predictions1['p2_conf']).\\\n",
    "fillna(image_predictions1['p3_conf'])\n",
    "\n",
    "image_predictions1 = image_predictions1.drop(['p1','p1_conf','p1_dog','p2','p2_conf','p2_dog','p3','p3_conf','p3_dog'],\n",
    "                                             axis=1)\n",
    "## all lowercase\n",
    "image_predictions1['p'] = image_predictions1['p'].str.lower()"
   ]
  },
  {
   "cell_type": "code",
   "execution_count": 585,
   "metadata": {},
   "outputs": [
    {
     "data": {
      "text/html": [
       "<div>\n",
       "<style>\n",
       "    .dataframe thead tr:only-child th {\n",
       "        text-align: right;\n",
       "    }\n",
       "\n",
       "    .dataframe thead th {\n",
       "        text-align: left;\n",
       "    }\n",
       "\n",
       "    .dataframe tbody tr th {\n",
       "        vertical-align: top;\n",
       "    }\n",
       "</style>\n",
       "<table border=\"1\" class=\"dataframe\">\n",
       "  <thead>\n",
       "    <tr style=\"text-align: right;\">\n",
       "      <th></th>\n",
       "      <th>tweet_id</th>\n",
       "      <th>jpg_url</th>\n",
       "      <th>img_num</th>\n",
       "      <th>p</th>\n",
       "      <th>p_conf</th>\n",
       "    </tr>\n",
       "  </thead>\n",
       "  <tbody>\n",
       "    <tr>\n",
       "      <th>0</th>\n",
       "      <td>666020888022790149</td>\n",
       "      <td>https://pbs.twimg.com/media/CT4udn0WwAA0aMy.jpg</td>\n",
       "      <td>1</td>\n",
       "      <td>welsh_springer_spaniel</td>\n",
       "      <td>0.465074</td>\n",
       "    </tr>\n",
       "    <tr>\n",
       "      <th>1</th>\n",
       "      <td>666029285002620928</td>\n",
       "      <td>https://pbs.twimg.com/media/CT42GRgUYAA5iDo.jpg</td>\n",
       "      <td>1</td>\n",
       "      <td>redbone</td>\n",
       "      <td>0.506826</td>\n",
       "    </tr>\n",
       "    <tr>\n",
       "      <th>2</th>\n",
       "      <td>666033412701032449</td>\n",
       "      <td>https://pbs.twimg.com/media/CT4521TWwAEvMyu.jpg</td>\n",
       "      <td>1</td>\n",
       "      <td>german_shepherd</td>\n",
       "      <td>0.596461</td>\n",
       "    </tr>\n",
       "    <tr>\n",
       "      <th>3</th>\n",
       "      <td>666044226329800704</td>\n",
       "      <td>https://pbs.twimg.com/media/CT5Dr8HUEAA-lEu.jpg</td>\n",
       "      <td>1</td>\n",
       "      <td>rhodesian_ridgeback</td>\n",
       "      <td>0.408143</td>\n",
       "    </tr>\n",
       "    <tr>\n",
       "      <th>4</th>\n",
       "      <td>666049248165822465</td>\n",
       "      <td>https://pbs.twimg.com/media/CT5IQmsXIAAKY4A.jpg</td>\n",
       "      <td>1</td>\n",
       "      <td>miniature_pinscher</td>\n",
       "      <td>0.560311</td>\n",
       "    </tr>\n",
       "  </tbody>\n",
       "</table>\n",
       "</div>"
      ],
      "text/plain": [
       "             tweet_id                                          jpg_url  \\\n",
       "0  666020888022790149  https://pbs.twimg.com/media/CT4udn0WwAA0aMy.jpg   \n",
       "1  666029285002620928  https://pbs.twimg.com/media/CT42GRgUYAA5iDo.jpg   \n",
       "2  666033412701032449  https://pbs.twimg.com/media/CT4521TWwAEvMyu.jpg   \n",
       "3  666044226329800704  https://pbs.twimg.com/media/CT5Dr8HUEAA-lEu.jpg   \n",
       "4  666049248165822465  https://pbs.twimg.com/media/CT5IQmsXIAAKY4A.jpg   \n",
       "\n",
       "   img_num                       p    p_conf  \n",
       "0        1  welsh_springer_spaniel  0.465074  \n",
       "1        1                 redbone  0.506826  \n",
       "2        1         german_shepherd  0.596461  \n",
       "3        1     rhodesian_ridgeback  0.408143  \n",
       "4        1      miniature_pinscher  0.560311  "
      ]
     },
     "execution_count": 585,
     "metadata": {},
     "output_type": "execute_result"
    }
   ],
   "source": [
    "image_predictions1.head()"
   ]
  },
  {
   "cell_type": "markdown",
   "metadata": {},
   "source": [
    "### 3.3. Clean twitter_extra\n",
    "- does not need cleaning: took all things into consideration when gathering data\n",
    "- changing column 'id' in 'tweet_id' to make merge easier"
   ]
  },
  {
   "cell_type": "code",
   "execution_count": 587,
   "metadata": {},
   "outputs": [],
   "source": [
    "twitter_extra.columns = ['tweet_id','retweet_count','favorite_count']"
   ]
  },
  {
   "cell_type": "markdown",
   "metadata": {},
   "source": [
    "### 3.4. Merge dataframes"
   ]
  },
  {
   "cell_type": "code",
   "execution_count": 589,
   "metadata": {},
   "outputs": [],
   "source": [
    "twitter_archive_master = twitter_archive1.merge(image_predictions1).merge(twitter_extra)"
   ]
  },
  {
   "cell_type": "code",
   "execution_count": 591,
   "metadata": {},
   "outputs": [
    {
     "data": {
      "text/html": [
       "<div>\n",
       "<style>\n",
       "    .dataframe thead tr:only-child th {\n",
       "        text-align: right;\n",
       "    }\n",
       "\n",
       "    .dataframe thead th {\n",
       "        text-align: left;\n",
       "    }\n",
       "\n",
       "    .dataframe tbody tr th {\n",
       "        vertical-align: top;\n",
       "    }\n",
       "</style>\n",
       "<table border=\"1\" class=\"dataframe\">\n",
       "  <thead>\n",
       "    <tr style=\"text-align: right;\">\n",
       "      <th></th>\n",
       "      <th>tweet_id</th>\n",
       "      <th>source</th>\n",
       "      <th>text</th>\n",
       "      <th>expanded_urls</th>\n",
       "      <th>rating_numerator</th>\n",
       "      <th>rating_denominator</th>\n",
       "      <th>name</th>\n",
       "      <th>date</th>\n",
       "      <th>time</th>\n",
       "      <th>week_nr</th>\n",
       "      <th>growth_stage</th>\n",
       "      <th>jpg_url</th>\n",
       "      <th>img_num</th>\n",
       "      <th>p</th>\n",
       "      <th>p_conf</th>\n",
       "      <th>retweet_count</th>\n",
       "      <th>favorite_count</th>\n",
       "    </tr>\n",
       "  </thead>\n",
       "  <tbody>\n",
       "    <tr>\n",
       "      <th>0</th>\n",
       "      <td>892177421306343426</td>\n",
       "      <td>Twitter for iPhone</td>\n",
       "      <td>This is Tilly. She's just checking pup on you....</td>\n",
       "      <td>https://twitter.com/dog_rates/status/892177421...</td>\n",
       "      <td>13</td>\n",
       "      <td>10</td>\n",
       "      <td>Tilly</td>\n",
       "      <td>2017-08-01</td>\n",
       "      <td>00:17:27</td>\n",
       "      <td>31</td>\n",
       "      <td>None</td>\n",
       "      <td>https://pbs.twimg.com/media/DGGmoV4XsAAUL6n.jpg</td>\n",
       "      <td>1</td>\n",
       "      <td>chihuahua</td>\n",
       "      <td>0.323581</td>\n",
       "      <td>6449</td>\n",
       "      <td>33695</td>\n",
       "    </tr>\n",
       "    <tr>\n",
       "      <th>1</th>\n",
       "      <td>891815181378084864</td>\n",
       "      <td>Twitter for iPhone</td>\n",
       "      <td>This is Archie. He is a rare Norwegian Pouncin...</td>\n",
       "      <td>https://twitter.com/dog_rates/status/891815181...</td>\n",
       "      <td>12</td>\n",
       "      <td>10</td>\n",
       "      <td>Archie</td>\n",
       "      <td>2017-07-31</td>\n",
       "      <td>00:18:03</td>\n",
       "      <td>31</td>\n",
       "      <td>None</td>\n",
       "      <td>https://pbs.twimg.com/media/DGBdLU1WsAANxJ9.jpg</td>\n",
       "      <td>1</td>\n",
       "      <td>chihuahua</td>\n",
       "      <td>0.716012</td>\n",
       "      <td>4274</td>\n",
       "      <td>25391</td>\n",
       "    </tr>\n",
       "    <tr>\n",
       "      <th>2</th>\n",
       "      <td>891689557279858688</td>\n",
       "      <td>Twitter for iPhone</td>\n",
       "      <td>This is Darla. She commenced a snooze mid meal...</td>\n",
       "      <td>https://twitter.com/dog_rates/status/891689557...</td>\n",
       "      <td>13</td>\n",
       "      <td>10</td>\n",
       "      <td>Darla</td>\n",
       "      <td>2017-07-30</td>\n",
       "      <td>15:58:51</td>\n",
       "      <td>30</td>\n",
       "      <td>None</td>\n",
       "      <td>https://pbs.twimg.com/media/DF_q7IAWsAEuuN8.jpg</td>\n",
       "      <td>1</td>\n",
       "      <td>labrador_retriever</td>\n",
       "      <td>0.168086</td>\n",
       "      <td>8884</td>\n",
       "      <td>42740</td>\n",
       "    </tr>\n",
       "    <tr>\n",
       "      <th>3</th>\n",
       "      <td>891327558926688256</td>\n",
       "      <td>Twitter for iPhone</td>\n",
       "      <td>This is Franklin. He would like you to stop ca...</td>\n",
       "      <td>https://twitter.com/dog_rates/status/891327558...</td>\n",
       "      <td>12</td>\n",
       "      <td>10</td>\n",
       "      <td>Franklin</td>\n",
       "      <td>2017-07-29</td>\n",
       "      <td>16:00:24</td>\n",
       "      <td>30</td>\n",
       "      <td>None</td>\n",
       "      <td>https://pbs.twimg.com/media/DF6hr6BUMAAzZgT.jpg</td>\n",
       "      <td>2</td>\n",
       "      <td>basset</td>\n",
       "      <td>0.555712</td>\n",
       "      <td>9670</td>\n",
       "      <td>40896</td>\n",
       "    </tr>\n",
       "    <tr>\n",
       "      <th>4</th>\n",
       "      <td>891087950875897856</td>\n",
       "      <td>Twitter for iPhone</td>\n",
       "      <td>Here we have a majestic great white breaching ...</td>\n",
       "      <td>https://twitter.com/dog_rates/status/891087950...</td>\n",
       "      <td>13</td>\n",
       "      <td>10</td>\n",
       "      <td>None</td>\n",
       "      <td>2017-07-29</td>\n",
       "      <td>00:08:17</td>\n",
       "      <td>30</td>\n",
       "      <td>None</td>\n",
       "      <td>https://pbs.twimg.com/media/DF3HwyEWsAABqE6.jpg</td>\n",
       "      <td>1</td>\n",
       "      <td>chesapeake_bay_retriever</td>\n",
       "      <td>0.425595</td>\n",
       "      <td>3218</td>\n",
       "      <td>20504</td>\n",
       "    </tr>\n",
       "  </tbody>\n",
       "</table>\n",
       "</div>"
      ],
      "text/plain": [
       "             tweet_id              source  \\\n",
       "0  892177421306343426  Twitter for iPhone   \n",
       "1  891815181378084864  Twitter for iPhone   \n",
       "2  891689557279858688  Twitter for iPhone   \n",
       "3  891327558926688256  Twitter for iPhone   \n",
       "4  891087950875897856  Twitter for iPhone   \n",
       "\n",
       "                                                text  \\\n",
       "0  This is Tilly. She's just checking pup on you....   \n",
       "1  This is Archie. He is a rare Norwegian Pouncin...   \n",
       "2  This is Darla. She commenced a snooze mid meal...   \n",
       "3  This is Franklin. He would like you to stop ca...   \n",
       "4  Here we have a majestic great white breaching ...   \n",
       "\n",
       "                                       expanded_urls  rating_numerator  \\\n",
       "0  https://twitter.com/dog_rates/status/892177421...                13   \n",
       "1  https://twitter.com/dog_rates/status/891815181...                12   \n",
       "2  https://twitter.com/dog_rates/status/891689557...                13   \n",
       "3  https://twitter.com/dog_rates/status/891327558...                12   \n",
       "4  https://twitter.com/dog_rates/status/891087950...                13   \n",
       "\n",
       "   rating_denominator      name        date      time  week_nr growth_stage  \\\n",
       "0                  10     Tilly  2017-08-01  00:17:27       31         None   \n",
       "1                  10    Archie  2017-07-31  00:18:03       31         None   \n",
       "2                  10     Darla  2017-07-30  15:58:51       30         None   \n",
       "3                  10  Franklin  2017-07-29  16:00:24       30         None   \n",
       "4                  10      None  2017-07-29  00:08:17       30         None   \n",
       "\n",
       "                                           jpg_url  img_num  \\\n",
       "0  https://pbs.twimg.com/media/DGGmoV4XsAAUL6n.jpg        1   \n",
       "1  https://pbs.twimg.com/media/DGBdLU1WsAANxJ9.jpg        1   \n",
       "2  https://pbs.twimg.com/media/DF_q7IAWsAEuuN8.jpg        1   \n",
       "3  https://pbs.twimg.com/media/DF6hr6BUMAAzZgT.jpg        2   \n",
       "4  https://pbs.twimg.com/media/DF3HwyEWsAABqE6.jpg        1   \n",
       "\n",
       "                          p    p_conf  retweet_count  favorite_count  \n",
       "0                 chihuahua  0.323581           6449           33695  \n",
       "1                 chihuahua  0.716012           4274           25391  \n",
       "2        labrador_retriever  0.168086           8884           42740  \n",
       "3                    basset  0.555712           9670           40896  \n",
       "4  chesapeake_bay_retriever  0.425595           3218           20504  "
      ]
     },
     "execution_count": 591,
     "metadata": {},
     "output_type": "execute_result"
    }
   ],
   "source": [
    "twitter_archive_master.head()"
   ]
  },
  {
   "cell_type": "code",
   "execution_count": 590,
   "metadata": {
    "collapsed": true
   },
   "outputs": [],
   "source": [
    "twitter_archive_master.to_csv('data/twitter_archive_master.csv',index=False)"
   ]
  },
  {
   "cell_type": "markdown",
   "metadata": {},
   "source": [
    "## 4. Investigate dataset"
   ]
  },
  {
   "cell_type": "markdown",
   "metadata": {},
   "source": [
    "### 4.1. Time series:  how number of tweets, avg amount of retweets & favorite count was developing in time"
   ]
  },
  {
   "cell_type": "code",
   "execution_count": 651,
   "metadata": {},
   "outputs": [
    {
     "data": {
      "text/plain": [
       "<matplotlib.axes._subplots.AxesSubplot at 0x7efed7711ef0>"
      ]
     },
     "execution_count": 651,
     "metadata": {},
     "output_type": "execute_result"
    },
    {
     "data": {
      "image/png": "[encoded data removed]",
      "text/plain": [
       "<matplotlib.figure.Figure at 0x7efed77f9898>"
      ]
     },
     "metadata": {},
     "output_type": "display_data"
    }
   ],
   "source": [
    "plt.figure(figsize=(12,5))\n",
    "sns.countplot(twitter_archive_master.week_nr)"
   ]
  },
  {
   "cell_type": "code",
   "execution_count": 652,
   "metadata": {},
   "outputs": [
    {
     "data": {
      "text/plain": [
       "<matplotlib.axes._subplots.AxesSubplot at 0x7efed80cc9b0>"
      ]
     },
     "execution_count": 652,
     "metadata": {},
     "output_type": "execute_result"
    },
    {
     "data": {
      "image/png": "[encoded data removed]",
      "text/plain": [
       "<matplotlib.figure.Figure at 0x7efed7e4b828>"
      ]
     },
     "metadata": {},
     "output_type": "display_data"
    }
   ],
   "source": [
    "a= twitter_archive_master.groupby('week_nr').agg({'retweet_count':'mean', \n",
    "                                               'favorite_count':'mean'}).reset_index()\n",
    "a.plot(x=\"week_nr\",y=[\"retweet_count\",\"favorite_count\"],figsize=(12,5))"
   ]
  },
  {
   "cell_type": "markdown",
   "metadata": {},
   "source": [
    "### 4.2. Prediction counts; average retweets per prediction & favorite count; also average confidence, numerator, denominator"
   ]
  },
  {
   "cell_type": "code",
   "execution_count": 693,
   "metadata": {},
   "outputs": [
    {
     "name": "stderr",
     "output_type": "stream",
     "text": [
      "/home/vecht499/.local/lib/python3.5/site-packages/ipykernel_launcher.py:11: SettingWithCopyWarning: \n",
      "A value is trying to be set on a copy of a slice from a DataFrame.\n",
      "Try using .loc[row_indexer,col_indexer] = value instead\n",
      "\n",
      "See the caveats in the documentation: http://pandas.pydata.org/pandas-docs/stable/indexing.html#indexing-view-versus-copy\n",
      "  # This is added back by InteractiveShellApp.init_path()\n"
     ]
    }
   ],
   "source": [
    "b = pd.DataFrame(twitter_archive_master.p.value_counts())\n",
    "b = b[b.p>15]\n",
    "most_common_p = dict(zip(b.index,b.p))\n",
    "\n",
    "a = twitter_archive_master.groupby('p').agg({'retweet_count':'mean', \n",
    "                                               'favorite_count':'mean',\n",
    "                                        'p_conf':'mean',\n",
    "                                        'rating_numerator':'mean',\n",
    "                                        'rating_denominator':'mean'}).reset_index()\n",
    "df = a[a.p.isin(most_common_p)]\n",
    "df[\"count\"] = df[\"p\"].apply(lambda x: most_common_p[x])"
   ]
  },
  {
   "cell_type": "code",
   "execution_count": 678,
   "metadata": {},
   "outputs": [
    {
     "data": {
      "image/png": "[encoded data removed]",
      "text/plain": [
       "<matplotlib.figure.Figure at 0x7efed6ac4c18>"
      ]
     },
     "metadata": {},
     "output_type": "display_data"
    }
   ],
   "source": [
    "plt.figure(figsize=(20,10))\n",
    "plt.subplots_adjust(wspace=0.8)\n",
    "\n",
    "plt.subplot(1,3,1)\n",
    "sns.barplot(x='retweet_count',y='p', data=df)\n",
    "plt.title(\"Average number of retweets per predicted dog breed\")\n",
    "\n",
    "plt.subplot(1,3,2)\n",
    "sns.barplot(x='favorite_count',y='p', data=df)\n",
    "plt.title(\"Average favorite count per predicted dog breed\")\n",
    "\n",
    "plt.subplot(1,3,3)\n",
    "sns.barplot(x='p_conf',y='p', data=df)\n",
    "plt.title(\"Average prediction confidence per predicted dog breed\")\n",
    "\n",
    "plt.show()"
   ]
  },
  {
   "cell_type": "code",
   "execution_count": 692,
   "metadata": {},
   "outputs": [
    {
     "data": {
      "image/png": "[encoded data removed]",
      "text/plain": [
       "<matplotlib.figure.Figure at 0x7efed6fd46d8>"
      ]
     },
     "metadata": {},
     "output_type": "display_data"
    }
   ],
   "source": [
    "plt.figure(figsize=(20,10))\n",
    "plt.subplots_adjust(wspace=0.8)\n",
    "\n",
    "plt.subplot(1,3,1)\n",
    "sns.barplot(x='rating_numerator',y='p', data=df)\n",
    "plt.title(\"Average rating numerator per predicted dog breed\")\n",
    "\n",
    "plt.subplot(1,3,2)\n",
    "sns.barplot(x='rating_denominator',y='p', data=df)\n",
    "plt.title(\"Average rating denominator per predicted dog breed\")\n",
    "\n",
    "plt.subplot(1,3,3)\n",
    "sns.barplot(x='count',y='p', data=df)\n",
    "plt.title(\"Dog breed count\")\n",
    "\n",
    "plt.show()"
   ]
  },
  {
   "cell_type": "code",
   "execution_count": 607,
   "metadata": {
    "scrolled": true
   },
   "outputs": [
    {
     "data": {
      "text/plain": [
       "<matplotlib.axes._subplots.AxesSubplot at 0x7efed9252ba8>"
      ]
     },
     "execution_count": 607,
     "metadata": {},
     "output_type": "execute_result"
    },
    {
     "data": {
      "image/png": "[encoded data removed]",
      "text/plain": [
       "<matplotlib.figure.Figure at 0x7efed8f4d5c0>"
      ]
     },
     "metadata": {},
     "output_type": "display_data"
    }
   ],
   "source": [
    "## count per source\n",
    "plt.figure(figsize=(10,5))\n",
    "sns.countplot(twitter_archive_master.source)"
   ]
  },
  {
   "cell_type": "markdown",
   "metadata": {},
   "source": [
    "### Insights:\n",
    "1. Most users use Twitter for iphone to do the tweets\n",
    "2. Golden retriever is the most common dog breed (according to the predictions), also breed 'golden retriever' is predicted with high confidence on average.\n",
    "3. French buldog (which does not occur very often in the tweets) has the highest average favorite count & retweet count."
   ]
  }
 ],
 "metadata": {
  "kernelspec": {
   "display_name": "Python 3",
   "language": "python",
   "name": "python3"
  },
  "language_info": {
   "codemirror_mode": {
    "name": "ipython",
    "version": 3
   },
   "file_extension": ".py",
   "mimetype": "text/x-python",
   "name": "python",
   "nbconvert_exporter": "python",
   "pygments_lexer": "ipython3",
   "version": "3.5.2"
  }
 },
 "nbformat": 4,
 "nbformat_minor": 2
}
